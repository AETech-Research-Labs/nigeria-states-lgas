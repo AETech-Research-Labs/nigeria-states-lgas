{
 "cells": [
  {
   "cell_type": "code",
   "execution_count": 17,
   "id": "314328c0",
   "metadata": {},
   "outputs": [],
   "source": [
    "import json\n",
    "import os"
   ]
  },
  {
   "cell_type": "code",
   "execution_count": 20,
   "id": "af0dae80",
   "metadata": {},
   "outputs": [],
   "source": [
    "os.chdir(\"H:/aetechlabs/nigeria-states-lgas\")"
   ]
  },
  {
   "cell_type": "code",
   "execution_count": null,
   "id": "39646c63",
   "metadata": {},
   "outputs": [],
   "source": [
    "with open(\"data/nigeria_states_and_lgas.json\", \"r\") as f:\n",
    "        data = json.load(f)"
   ]
  },
  {
   "cell_type": "code",
   "execution_count": 21,
   "id": "b262c337",
   "metadata": {},
   "outputs": [
    {
     "data": {
      "text/plain": [
       "'H:\\\\aetechlabs\\\\nigeria-states-lgas'"
      ]
     },
     "execution_count": 21,
     "metadata": {},
     "output_type": "execute_result"
    }
   ],
   "source": [
    "os.getcwd()"
   ]
  }
 ],
 "metadata": {
  "kernelspec": {
   "display_name": ".venv",
   "language": "python",
   "name": "python3"
  },
  "language_info": {
   "codemirror_mode": {
    "name": "ipython",
    "version": 3
   },
   "file_extension": ".py",
   "mimetype": "text/x-python",
   "name": "python",
   "nbconvert_exporter": "python",
   "pygments_lexer": "ipython3",
   "version": "3.13.5"
  }
 },
 "nbformat": 4,
 "nbformat_minor": 5
}
